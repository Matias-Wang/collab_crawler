{
  "nbformat": 4,
  "nbformat_minor": 0,
  "metadata": {
    "colab": {
      "provenance": [],
      "authorship_tag": "ABX9TyO8H+oUluQRFGPiYX/gUAwE",
      "include_colab_link": true
    },
    "kernelspec": {
      "name": "python3",
      "display_name": "Python 3"
    },
    "language_info": {
      "name": "python"
    }
  },
  "cells": [
    {
      "cell_type": "markdown",
      "metadata": {
        "id": "view-in-github",
        "colab_type": "text"
      },
      "source": [
        "<a href=\"https://colab.research.google.com/github/Matias-Wang/collab_crawler/blob/main/%E5%8F%A3%E7%BD%A9%E5%9C%B0%E5%9C%96.ipynb\" target=\"_parent\"><img src=\"https://colab.research.google.com/assets/colab-badge.svg\" alt=\"Open In Colab\"/></a>"
      ]
    },
    {
      "cell_type": "code",
      "source": [
        "# 新增且清空資料表\n",
        "import sqlite3\n",
        "import datetime\n",
        "import requests\n",
        "import json\n",
        "\n",
        "conn = sqlite3.connect('mask_map.db')\n",
        "c = conn.cursor()\n",
        "c.execute('''CREATE TABLE IF NOT EXISTS pharmacies(city text, counts text, createdAt datetime)''') #建立Table Pharmacies，並設定欄位，以及欄位的資料型態。\n",
        "c.execute('''DELETE FROM pharmacies''') #清空Table\n",
        "conn.commit() #提交對資料庫的修改\n",
        "\n",
        "\n",
        "\n",
        "# 新增資料\n",
        "url = 'https://raw.githubusercontent.com/kiang/pharmacies/master/json/points.json'\n",
        "response = requests.get(url)\n",
        "d = response.text # 將請求回應的內容存成一個字串格式\n",
        "data = json.loads(d) # 將長得像 json 格式的字串解析成字典或列表\n",
        "\n",
        "#將計算的「各地區的藥局數量」存入資料庫的 `pharmacies` 表格，欄位包含「地區」、「數量」、「新增時間」\n",
        "# 蒐集資料\n",
        "\n",
        "med_count = {}\n",
        "for d in data['features']:\n",
        "    conunty = d['properties']['county']\n",
        "    if conunty not in med_count:\n",
        "         med_count[conunty] = 0\n",
        "\n",
        "    else:\n",
        "        med_count[conunty] += 1\n",
        "\n",
        "\n",
        "\n",
        "# 將每一筆資料分別取出來新增到資料庫\n",
        "for city, counts in med_count.items():\n",
        "  t = datetime.datetime.now()\n",
        "#   print(f\"INSERT INTO pharmacies VALUES ('{city}', {counts}, '{t}')\")\n",
        "  c.execute(f\"INSERT INTO pharmacies VALUES ('{city}', {counts}, '{t}')\")\n",
        "  conn.commit()\n",
        "\n",
        "# 查詢資料\n",
        "c.execute(\"SELECT * FROM pharmacies\")\n",
        "print(c.fetchall())\n",
        "\n",
        "conn.commit()\n",
        "conn.close()"
      ],
      "metadata": {
        "id": "tbZYiUTJh18f",
        "colab": {
          "base_uri": "https://localhost:8080/"
        },
        "outputId": "f52a7781-f107-4b7b-b969-05b5c8a1e230"
      },
      "execution_count": 15,
      "outputs": [
        {
          "output_type": "stream",
          "name": "stdout",
          "text": [
            "[('臺北市', '1016', '2024-05-09 09:57:29.662039'), ('', '146', '2024-05-09 09:57:29.670410'), ('高雄市', '1265', '2024-05-09 09:57:29.677859'), ('臺中市', '1259', '2024-05-09 09:57:29.684950'), ('臺南市', '812', '2024-05-09 09:57:29.692378'), ('基隆市', '170', '2024-05-09 09:57:29.708870'), ('新竹市', '116', '2024-05-09 09:57:29.717005'), ('嘉義市', '200', '2024-05-09 09:57:29.724577'), ('新北市', '1502', '2024-05-09 09:57:29.733399'), ('桃園市', '791', '2024-05-09 09:57:29.741923'), ('新竹縣', '137', '2024-05-09 09:57:29.749748'), ('宜蘭縣', '227', '2024-05-09 09:57:29.757577'), ('苗栗縣', '167', '2024-05-09 09:57:29.764789'), ('彰化縣', '536', '2024-05-09 09:57:29.772748'), ('南投縣', '200', '2024-05-09 09:57:29.780173'), ('雲林縣', '386', '2024-05-09 09:57:29.788221'), ('嘉義縣', '251', '2024-05-09 09:57:29.796780'), ('屏東縣', '419', '2024-05-09 09:57:29.804603'), ('澎湖縣', '32', '2024-05-09 09:57:29.813150'), ('花蓮縣', '137', '2024-05-09 09:57:29.820524'), ('臺東縣', '68', '2024-05-09 09:57:29.827849'), ('金門縣', '17', '2024-05-09 09:57:29.834921'), ('連江縣', '2', '2024-05-09 09:57:29.842997')]\n"
          ]
        }
      ]
    },
    {
      "cell_type": "code",
      "source": [
        "# 計算的「各地區的剩餘口罩」存入資料庫的 `masks` 表格，欄位包含「地區」、「剩餘口罩數量」、「新增時間」\n",
        "\n",
        "conn = sqlite3.connect('mask_map.db')\n",
        "c = conn.cursor()\n",
        "c.execute('''CREATE TABLE IF NOT EXISTS masks(city text, counts text, createdAt datetime)''') #建立Table masks，並設定欄位，以及欄位的資料型態。\n",
        "c.execute('''DELETE FROM masks''') #清空Table\n",
        "conn.commit() #提交對資料庫的修改\n",
        "\n",
        "\n",
        "# 蒐集資料\n",
        "mask_count = {}\n",
        "\n",
        "for d in data['features']:\n",
        "    county = d['properties']['county']\n",
        "    mask_adult = d['properties']['mask_adult']\n",
        "    if county not in mask_count:\n",
        "        mask_count[county] = 0\n",
        "\n",
        "    else:\n",
        "        mask_count[county] += mask_adult #計算成人口罩數量\n",
        "# mask_count = dict(sorted(mask_count.items(), key=lambda item: item[1], reverse=True)) # 將結果從大到小排列\n",
        "\n",
        "\n",
        "# 將每一筆資料分別取出來新增到資料庫\n",
        "for city, counts in mask_count.items():\n",
        "  t = datetime.datetime.now()\n",
        "#   print(f\"INSERT INTO masks VALUES ('{city}', {counts}, '{t}')\")\n",
        "  c.execute(f\"INSERT INTO masks VALUES ('{city}', {counts}, '{t}')\")\n",
        "  conn.commit()\n",
        "\n",
        "# 查詢資料\n",
        "c.execute(\"SELECT * FROM masks\")\n",
        "print(c.fetchall())\n",
        "\n",
        "conn.commit()\n",
        "conn.close()"
      ],
      "metadata": {
        "colab": {
          "base_uri": "https://localhost:8080/"
        },
        "id": "-Qa7Q0mXybz_",
        "outputId": "8716f379-e8df-47af-b495-20fb8070a867"
      },
      "execution_count": 18,
      "outputs": [
        {
          "output_type": "stream",
          "name": "stdout",
          "text": [
            "[('臺北市', '322490', '2024-05-09 10:06:48.938782'), ('', '68040', '2024-05-09 10:06:48.946900'), ('高雄市', '424170', '2024-05-09 10:06:48.954943'), ('臺中市', '535430', '2024-05-09 10:06:48.963093'), ('臺南市', '392430', '2024-05-09 10:06:48.970270'), ('基隆市', '79840', '2024-05-09 10:06:48.977657'), ('新竹市', '45630', '2024-05-09 10:06:48.985482'), ('嘉義市', '105870', '2024-05-09 10:06:49.000595'), ('新北市', '670150', '2024-05-09 10:06:49.008405'), ('桃園市', '330010', '2024-05-09 10:06:49.015575'), ('新竹縣', '51280', '2024-05-09 10:06:49.023129'), ('宜蘭縣', '105830', '2024-05-09 10:06:49.030859'), ('苗栗縣', '119500', '2024-05-09 10:06:49.042608'), ('彰化縣', '218090', '2024-05-09 10:06:49.050537'), ('南投縣', '81680', '2024-05-09 10:06:49.058435'), ('雲林縣', '195540', '2024-05-09 10:06:49.066091'), ('嘉義縣', '112190', '2024-05-09 10:06:49.074621'), ('屏東縣', '181480', '2024-05-09 10:06:49.082181'), ('澎湖縣', '11350', '2024-05-09 10:06:49.090063'), ('花蓮縣', '56570', '2024-05-09 10:06:49.097825'), ('臺東縣', '27720', '2024-05-09 10:06:49.105105'), ('金門縣', '15510', '2024-05-09 10:06:49.112417'), ('連江縣', '0', '2024-05-09 10:06:49.119814')]\n"
          ]
        }
      ]
    }
  ]
}